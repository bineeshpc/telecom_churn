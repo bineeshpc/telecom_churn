{
 "cells": [
  {
   "cell_type": "code",
   "execution_count": 153,
   "metadata": {},
   "outputs": [],
   "source": [
    "import pandas as pd\n",
    "import numpy as np\n",
    "# import researchpy as rp\n",
    "from scipy import stats\n",
    "\n",
    "import matplotlib.pyplot as plt\n",
    "import pydotplus\n",
    "from matplotlib import rcParams\n",
    "import seaborn as sb\n",
    "\n",
    "from collections import Counter"
   ]
  },
  {
   "cell_type": "code",
   "execution_count": 1,
   "metadata": {
    "scrolled": true
   },
   "outputs": [
    {
     "name": "stdout",
     "output_type": "stream",
     "text": [
      "(4617, 21)\n",
      "<class 'pandas.core.frame.DataFrame'>\n",
      "RangeIndex: 4617 entries, 0 to 4616\n",
      "Data columns (total 21 columns):\n",
      "State                   4617 non-null object\n",
      "Account Length          4617 non-null object\n",
      "Area Code               4617 non-null object\n",
      "Phone                   4617 non-null object\n",
      "International Plan      4617 non-null object\n",
      "VMail Plan              4617 non-null object\n",
      "VMail Message           4617 non-null object\n",
      "Day Mins                4617 non-null object\n",
      "Day Calls               4617 non-null object\n",
      "Day Charge              4617 non-null object\n",
      "Eve Mins                4617 non-null object\n",
      "Eve Calls               4617 non-null object\n",
      "Eve Charge              4617 non-null object\n",
      "Night Mins              4617 non-null object\n",
      "Night Calls             4617 non-null object\n",
      "Nights Charge           4617 non-null object\n",
      "International Mins      4617 non-null object\n",
      "International Calls     4617 non-null object\n",
      "International Charge    4617 non-null object\n",
      "CustServ Calls          4617 non-null object\n",
      "Churn                   4617 non-null object\n",
      "dtypes: object(21)\n",
      "memory usage: 757.6+ KB\n",
      "<class 'pandas.core.frame.DataFrame'>\n",
      "RangeIndex: 4617 entries, 0 to 4616\n",
      "Data columns (total 21 columns):\n",
      "State                   4617 non-null object\n",
      "Account Length          4617 non-null object\n",
      "Area Code               4617 non-null object\n",
      "Phone                   4617 non-null object\n",
      "International Plan      4617 non-null object\n",
      "VMail Plan              4617 non-null object\n",
      "VMail Message           4617 non-null object\n",
      "Day Mins                4617 non-null object\n",
      "Day Calls               4617 non-null object\n",
      "Day Charge              4617 non-null object\n",
      "Eve Mins                4617 non-null object\n",
      "Eve Calls               4617 non-null object\n",
      "Eve Charge              4617 non-null object\n",
      "Night Mins              4617 non-null object\n",
      "Night Calls             4617 non-null object\n",
      "Nights Charge           4617 non-null object\n",
      "International Mins      4617 non-null object\n",
      "International Calls     4617 non-null object\n",
      "International Charge    4617 non-null object\n",
      "CustServ Calls          4617 non-null object\n",
      "Churn                   4617 non-null object\n",
      "dtypes: object(21)\n",
      "memory usage: 757.6+ KB\n",
      "<class 'pandas.core.frame.DataFrame'>\n",
      "RangeIndex: 4617 entries, 0 to 4616\n",
      "Data columns (total 21 columns):\n",
      "State                   4617 non-null object\n",
      "Account Length          4617 non-null int64\n",
      "Area Code               4617 non-null int64\n",
      "Phone                   4617 non-null int64\n",
      "International Plan      4617 non-null object\n",
      "VMail Plan              4617 non-null object\n",
      "VMail Message           4617 non-null int64\n",
      "Day Mins                4617 non-null float64\n",
      "Day Calls               4617 non-null int64\n",
      "Day Charge              4617 non-null float64\n",
      "Eve Mins                4617 non-null float64\n",
      "Eve Calls               4617 non-null int64\n",
      "Eve Charge              4617 non-null float64\n",
      "Night Mins              4617 non-null float64\n",
      "Night Calls             4617 non-null int64\n",
      "Nights Charge           4617 non-null float64\n",
      "International Mins      4617 non-null float64\n",
      "International Calls     4617 non-null int64\n",
      "International Charge    4617 non-null float64\n",
      "CustServ Calls          4617 non-null int64\n",
      "Churn                   4617 non-null object\n",
      "dtypes: float64(8), int64(9), object(4)\n",
      "memory usage: 757.6+ KB\n",
      "<class 'pandas.core.frame.DataFrame'>\n",
      "RangeIndex: 4617 entries, 0 to 4616\n",
      "Data columns (total 21 columns):\n",
      "State                   4617 non-null int32\n",
      "Account Length          4617 non-null int64\n",
      "Area Code               4617 non-null int64\n",
      "Phone                   4617 non-null int64\n",
      "International Plan      4617 non-null int64\n",
      "VMail Plan              4617 non-null int64\n",
      "VMail Message           4617 non-null int64\n",
      "Day Mins                4617 non-null float64\n",
      "Day Calls               4617 non-null int64\n",
      "Day Charge              4617 non-null float64\n",
      "Eve Mins                4617 non-null float64\n",
      "Eve Calls               4617 non-null int64\n",
      "Eve Charge              4617 non-null float64\n",
      "Night Mins              4617 non-null float64\n",
      "Night Calls             4617 non-null int64\n",
      "Nights Charge           4617 non-null float64\n",
      "International Mins      4617 non-null float64\n",
      "International Calls     4617 non-null int64\n",
      "International Charge    4617 non-null float64\n",
      "CustServ Calls          4617 non-null int64\n",
      "Churn                   4617 non-null int64\n",
      "dtypes: float64(8), int32(1), int64(12)\n",
      "memory usage: 739.5 KB\n"
     ]
    }
   ],
   "source": [
    "%run data_cleaning.ipynb"
   ]
  },
  {
   "cell_type": "code",
   "execution_count": 50,
   "metadata": {},
   "outputs": [
    {
     "name": "stdout",
     "output_type": "stream",
     "text": [
      "Index(['State', 'Account Length', 'Area Code', 'Phone', 'International Plan',\n",
      "       'VMail Plan', 'VMail Message', 'Day Mins', 'Day Calls', 'Day Charge',\n",
      "       'Eve Mins', 'Eve Calls', 'Eve Charge', 'Night Mins', 'Night Calls',\n",
      "       'Nights Charge', 'International Mins', 'International Calls',\n",
      "       'International Charge', 'CustServ Calls', 'Churn'],\n",
      "      dtype='object')\n",
      "21\n",
      "['int32', 'int64']\n",
      "Index(['State', 'Account Length', 'Area Code', 'Phone', 'International Plan',\n",
      "       'VMail Plan', 'VMail Message', 'Day Calls', 'Eve Calls', 'Night Calls',\n",
      "       'International Calls', 'CustServ Calls', 'Churn'],\n",
      "      dtype='object')\n",
      "13\n",
      "['float32', 'float64']\n",
      "Index(['Day Mins', 'Day Charge', 'Eve Mins', 'Eve Charge', 'Night Mins',\n",
      "       'Nights Charge', 'International Mins', 'International Charge'],\n",
      "      dtype='object')\n",
      "8\n"
     ]
    }
   ],
   "source": [
    "def get_column_info(data):\n",
    "    print(data.columns)\n",
    "    print(len(data.columns))\n",
    "    return data.columns, len(data.columns)\n",
    "    \n",
    "def filter_by_type(data, type1):\n",
    "    print(type1)\n",
    "    if isinstance(type1, list):\n",
    "        filter_ = eval(\" | \".join([f\"(data.dtypes == '{i}')\" for i in type1]))\n",
    "        type1_columns_df = data.loc[:, filter_]\n",
    "        get_column_info(type1_columns_df)\n",
    "    elif isinstance(type1, str):\n",
    "        filter_ = f\"(data.dtypes == '{type1}')\"\n",
    "        type1_columns_df = data.loc[:, filter_]\n",
    "        get_column_info(type1_columns_df)\n",
    "        \n",
    "def get_column_info_and_types(data):\n",
    "    get_column_info(data)\n",
    "    filter_by_type(data, ['int32', 'int64'])\n",
    "    filter_by_type(data, ['float32', 'float64'])\n",
    "    \n",
    "get_column_info_and_types(data_encoded)"
   ]
  },
  {
   "cell_type": "markdown",
   "metadata": {},
   "source": [
    "## Manually classify the data types to Numerical(continous, discrete) and Categorical(ordinal, nominal)"
   ]
  },
  {
   "cell_type": "code",
   "execution_count": 58,
   "metadata": {},
   "outputs": [
    {
     "name": "stdout",
     "output_type": "stream",
     "text": [
      "('numerical', 'continuous', ['Day Mins', 'Day Charge', 'Eve Mins', 'Eve Calls', 'Eve Charge', 'Night Mins', 'Nights Charge', 'International Mins', 'International Charge'], 9)\n",
      "('numerical', 'discrete', ['Account Length', 'VMail Message', 'Day Calls', 'Night Calls', 'International Calls', 'CustServ Calls'], 6)\n",
      "('categorical', 'ordinal', [], 0)\n",
      "('categorical', 'nominal', ['State', 'Area Code', 'Phone'], 3)\n",
      "('categorical', 'bool', ['International Plan', 'VMail Plan', 'Churn'], 3)\n"
     ]
    }
   ],
   "source": [
    "\n",
    "data_type_info = {'State': 'nominal',\n",
    "          'Account Length': 'discrete',\n",
    "          'Area Code': 'nominal',\n",
    "          'Phone': 'nominal',\n",
    "          'International Plan': 'bool',\n",
    "          'VMail Plan': 'bool',\n",
    "          'VMail Message': 'discrete',\n",
    "          'Day Mins': 'continuous',\n",
    "          'Day Calls': 'discrete',\n",
    "          'Day Charge': 'continuous',\n",
    "           'Eve Mins': 'continuous',\n",
    "          'Eve Calls': 'continuous',\n",
    "          'Eve Charge': 'continuous',\n",
    "          'Night Mins': 'continuous',\n",
    "          'Night Calls': 'discrete',\n",
    "        'Nights Charge': 'continuous',\n",
    "          'International Mins': 'continuous',\n",
    "          'International Calls': 'discrete',\n",
    "       'International Charge': 'continuous',\n",
    "          'CustServ Calls': 'discrete',\n",
    "          'Churn': 'bool'}\n",
    "\n",
    "\n",
    "def get_type(data_type_info, type1):\n",
    "    keys = [k for k, v in data_type_info.items() if v == type1]\n",
    "    if type1 in ['nominal', 'ordinal', 'bool']:\n",
    "        base_type = 'categorical'\n",
    "    elif type1  in ['continuous', 'discrete']:\n",
    "        base_type = 'numerical'\n",
    "    \n",
    "    return base_type, type1, keys, len(keys)\n",
    "    \n",
    "for type1 in ['continuous', 'discrete', 'ordinal', 'nominal', 'bool']:\n",
    "    print(get_type(data_type_info, type1))"
   ]
  },
  {
   "cell_type": "markdown",
   "metadata": {},
   "source": [
    "# Check Multi-Collinearity - using Correlation on predictor continuous variables "
   ]
  },
  {
   "cell_type": "code",
   "execution_count": 138,
   "metadata": {
    "scrolled": true
   },
   "outputs": [
    {
     "data": {
      "text/plain": [
       "{('Day Mins', 'Day Charge'): 1.0,\n",
       " ('Eve Mins', 'Eve Charge'): 1.0,\n",
       " ('Night Mins', 'Nights Charge'): 1.0,\n",
       " ('International Mins', 'International Charge'): 1.0}"
      ]
     },
     "execution_count": 138,
     "metadata": {},
     "output_type": "execute_result"
    }
   ],
   "source": [
    "continous_variables = get_type(data_type_info, 'continuous')[2]\n",
    "\n",
    "cor_continous_variables = data_encoded[continous_variables].corr(method='pearson').round(2)\n",
    "# c = cor_continous_variables.unstack().sort_values(ascending=False)\n",
    "\n",
    "def get_high_correlations(data, continous_variables, threshold):\n",
    "    c = data[continous_variables].corr(method='pearson').round(2)\n",
    "    d = {}\n",
    "    for i in c.index:\n",
    "        for j in c.columns:\n",
    "            if i != j and c.loc[i, j] > threshold:\n",
    "                if not d.get((j, i)): \n",
    "                    # print(c.loc[i, j], i, j)\n",
    "                    d[(i, j)] = c.loc[i, j]\n",
    "    return d\n",
    "\n",
    "get_high_correlations(data_encoded, continous_variables, .8)"
   ]
  },
  {
   "attachments": {
    "FetureEnggTest.PNG": {
     "image/png": "[encoded data removed]"
    }
   },
   "cell_type": "markdown",
   "metadata": {},
   "source": [
    "# Checking if each categoriable variable has a statistically signifcant association with categorical outcome variable\n",
    "\n",
    "![FetureEnggTest.PNG](attachment:FetureEnggTest.PNG)\n",
    "\n",
    "\n",
    "\n",
    "\n",
    "## Below sample is for just one, we have to do for every combination of categorical predictor with outcome varibales"
   ]
  },
  {
   "cell_type": "code",
   "execution_count": 146,
   "metadata": {},
   "outputs": [
    {
     "data": {
      "text/plain": [
       "['State', 'Area Code', 'Phone', 'International Plan', 'VMail Plan', 'Churn']"
      ]
     },
     "execution_count": 146,
     "metadata": {},
     "output_type": "execute_result"
    }
   ],
   "source": [
    "def get_categorical(data_type_info):\n",
    "    results = []\n",
    "    for type1 in ['ordinal', 'nominal', 'bool']:\n",
    "        result = get_type(data_type_info, type1)\n",
    "        results.extend(result[2])\n",
    "    return results\n",
    "\n",
    "get_categorical(data_type_info)"
   ]
  },
  {
   "cell_type": "code",
   "execution_count": 159,
   "metadata": {},
   "outputs": [
    {
     "name": "stdout",
     "output_type": "stream",
     "text": [
      "['State', 'Area Code', 'Phone', 'International Plan', 'VMail Plan']\n",
      "State Churn 0.0003716382614441669\n",
      "International Plan Churn 5.1469217589105615e-68\n",
      "VMail Plan Churn 1.0310215433169948e-13\n"
     ]
    }
   ],
   "source": [
    "categorical_variables = get_categorical(data_type_info)\n",
    "categorical_variables.remove('Churn')\n",
    "target_variable = 'Churn'\n",
    "\n",
    "def chi_square_test(df1, categorical_variables, target_variable):\n",
    "    #Null Hypothesis: There is no association between the variables\n",
    "\n",
    "    for column in categorical_variables:\n",
    "        # print(pd.crosstab(df1[column], df1[target_variable]))\n",
    "        chi2, p, dof, expected = stats.chi2_contingency(pd.crosstab(df1[column], df1[target_variable]))\n",
    "\n",
    "        #print(\"Chi     :\",chi2)\n",
    "        #print(\"P-value :\",p)\n",
    "        #print(\"dof     :\",dof)\n",
    "        #print(\"expected:\",expected)\n",
    "        if p < 0.05:\n",
    "            print(column, target_variable, p)\n",
    "\n",
    "print(categorical_variables)\n",
    "chi_square_test(data_encoded, categorical_variables, target_variable)"
   ]
  },
  {
   "cell_type": "code",
   "execution_count": 160,
   "metadata": {},
   "outputs": [],
   "source": [
    "# Repeat the above for every combination and you will get the result:\n",
    "#p-value:0.0 < 0.05. Therefore c_workclass is IMPORTANT for Prediction\n",
    "#p-value:0.0 < 0.05. Therefore q_fnlwgt is IMPORTANT for Prediction\n",
    "#p-value:0.0 < 0.05. Therefore c_education is IMPORTANT for Prediction\n",
    "#p-value:0.0 < 0.05. Therefore c_marital_status is IMPORTANT for Prediction\n",
    "#p-value:0.0 < 0.05. Therefore c_occupation is IMPORTANT for Prediction\n",
    "#p-value:0.0 < 0.05. Therefore c_relationship is IMPORTANT for Prediction\n",
    "#p-value:0.0 < 0.05. Therefore c_race is IMPORTANT for Prediction\n",
    "#p-value:0.0 < 0.05. Therefore c_sex is IMPORTANT for Prediction\n",
    "#p-value:0.0 < 0.05. Therefore c_native_country is IMPORTANT for Prediction"
   ]
  }
 ],
 "metadata": {
  "kernelspec": {
   "display_name": "Python 3",
   "language": "python",
   "name": "python3"
  },
  "language_info": {
   "codemirror_mode": {
    "name": "ipython",
    "version": 3
   },
   "file_extension": ".py",
   "mimetype": "text/x-python",
   "name": "python",
   "nbconvert_exporter": "python",
   "pygments_lexer": "ipython3",
   "version": "3.7.3"
  }
 },
 "nbformat": 4,
 "nbformat_minor": 2
}
