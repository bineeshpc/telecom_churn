{
 "cells": [
  {
   "cell_type": "markdown",
   "metadata": {},
   "source": [
    "# Churn rate prediction of Telecom sector"
   ]
  },
  {
   "cell_type": "code",
   "execution_count": 1,
   "metadata": {},
   "outputs": [],
   "source": [
    "%matplotlib inline\n",
    "from sklearn.preprocessing import LabelEncoder\n",
    "import pandas as pd\n",
    "import warnings\n",
    "warnings.filterwarnings(\"ignore\")\n"
   ]
  },
  {
   "cell_type": "markdown",
   "metadata": {},
   "source": [
    "## Read data from sql"
   ]
  },
  {
   "cell_type": "code",
   "execution_count": 2,
   "metadata": {
    "scrolled": true
   },
   "outputs": [
    {
     "name": "stdout",
     "output_type": "stream",
     "text": [
      "(4617, 21)\n",
      "<class 'pandas.core.frame.DataFrame'>\n",
      "RangeIndex: 4617 entries, 0 to 4616\n",
      "Data columns (total 21 columns):\n",
      "State                   4617 non-null object\n",
      "Account Length          4617 non-null object\n",
      "Area Code               4617 non-null object\n",
      "Phone                   4617 non-null object\n",
      "International Plan      4617 non-null object\n",
      "VMail Plan              4617 non-null object\n",
      "VMail Message           4617 non-null object\n",
      "Day Mins                4617 non-null object\n",
      "Day Calls               4617 non-null object\n",
      "Day Charge              4617 non-null object\n",
      "Eve Mins                4617 non-null object\n",
      "Eve Calls               4617 non-null object\n",
      "Eve Charge              4617 non-null object\n",
      "Night Mins              4617 non-null object\n",
      "Night Calls             4617 non-null object\n",
      "Nights Charge           4617 non-null object\n",
      "International Mins      4617 non-null object\n",
      "International Calls     4617 non-null object\n",
      "International Charge    4617 non-null object\n",
      "CustServ Calls          4617 non-null object\n",
      "Churn                   4617 non-null object\n",
      "dtypes: object(21)\n",
      "memory usage: 757.6+ KB\n",
      "<class 'pandas.core.frame.DataFrame'>\n",
      "RangeIndex: 4617 entries, 0 to 4616\n",
      "Data columns (total 21 columns):\n",
      "State                   4617 non-null object\n",
      "Account Length          4617 non-null object\n",
      "Area Code               4617 non-null object\n",
      "Phone                   4617 non-null object\n",
      "International Plan      4617 non-null object\n",
      "VMail Plan              4617 non-null object\n",
      "VMail Message           4617 non-null object\n",
      "Day Mins                4617 non-null object\n",
      "Day Calls               4617 non-null object\n",
      "Day Charge              4617 non-null object\n",
      "Eve Mins                4617 non-null object\n",
      "Eve Calls               4617 non-null object\n",
      "Eve Charge              4617 non-null object\n",
      "Night Mins              4617 non-null object\n",
      "Night Calls             4617 non-null object\n",
      "Nights Charge           4617 non-null object\n",
      "International Mins      4617 non-null object\n",
      "International Calls     4617 non-null object\n",
      "International Charge    4617 non-null object\n",
      "CustServ Calls          4617 non-null object\n",
      "Churn                   4617 non-null object\n",
      "dtypes: object(21)\n",
      "memory usage: 757.6+ KB\n"
     ]
    }
   ],
   "source": [
    "%run read_telecom_data_from_sql.ipynb"
   ]
  },
  {
   "cell_type": "markdown",
   "metadata": {},
   "source": [
    "Dataframe named data is available now"
   ]
  },
  {
   "cell_type": "code",
   "execution_count": 3,
   "metadata": {},
   "outputs": [
    {
     "data": {
      "text/plain": [
       "State                   0\n",
       "Account Length          0\n",
       "Area Code               0\n",
       "Phone                   0\n",
       "International Plan      0\n",
       "VMail Plan              0\n",
       "VMail Message           0\n",
       "Day Mins                0\n",
       "Day Calls               0\n",
       "Day Charge              0\n",
       "Eve Mins                0\n",
       "Eve Calls               0\n",
       "Eve Charge              0\n",
       "Night Mins              0\n",
       "Night Calls             0\n",
       "Nights Charge           0\n",
       "International Mins      0\n",
       "International Calls     0\n",
       "International Charge    0\n",
       "CustServ Calls          0\n",
       "Churn                   0\n",
       "dtype: int64"
      ]
     },
     "execution_count": 3,
     "metadata": {},
     "output_type": "execute_result"
    }
   ],
   "source": [
    "data.isnull().sum()"
   ]
  },
  {
   "cell_type": "code",
   "execution_count": 4,
   "metadata": {},
   "outputs": [],
   "source": [
    "data.Phone = data.Phone.str.replace('-', '')\n",
    "data = data.astype({\n",
    "    'Account Length': 'int64',\n",
    "    'Area Code': 'int64',\n",
    "    'Phone': 'int64',\n",
    "    'VMail Message': 'int64',\n",
    "    'Day Mins': 'float64',\n",
    "    'Day Calls': 'int64',\n",
    "    'Day Charge': 'float64',\n",
    "    'Eve Mins': 'float64',\n",
    "    'Eve Calls': 'int64',\n",
    "    'Eve Charge': 'float64',\n",
    "    'Night Mins': 'float64',\n",
    "    'Night Calls': 'int64',\n",
    "    'Nights Charge': 'float64',\n",
    "    'International Mins': 'float64',\n",
    "    'International Calls': 'int64',\n",
    "    'International Charge': 'float64',\n",
    "    'CustServ Calls': 'int64'\n",
    "            })\n"
   ]
  },
  {
   "cell_type": "code",
   "execution_count": 5,
   "metadata": {},
   "outputs": [
    {
     "name": "stdout",
     "output_type": "stream",
     "text": [
      "<class 'pandas.core.frame.DataFrame'>\n",
      "RangeIndex: 4617 entries, 0 to 4616\n",
      "Data columns (total 21 columns):\n",
      "State                   4617 non-null object\n",
      "Account Length          4617 non-null int64\n",
      "Area Code               4617 non-null int64\n",
      "Phone                   4617 non-null int64\n",
      "International Plan      4617 non-null object\n",
      "VMail Plan              4617 non-null object\n",
      "VMail Message           4617 non-null int64\n",
      "Day Mins                4617 non-null float64\n",
      "Day Calls               4617 non-null int64\n",
      "Day Charge              4617 non-null float64\n",
      "Eve Mins                4617 non-null float64\n",
      "Eve Calls               4617 non-null int64\n",
      "Eve Charge              4617 non-null float64\n",
      "Night Mins              4617 non-null float64\n",
      "Night Calls             4617 non-null int64\n",
      "Nights Charge           4617 non-null float64\n",
      "International Mins      4617 non-null float64\n",
      "International Calls     4617 non-null int64\n",
      "International Charge    4617 non-null float64\n",
      "CustServ Calls          4617 non-null int64\n",
      "Churn                   4617 non-null object\n",
      "dtypes: float64(8), int64(9), object(4)\n",
      "memory usage: 757.6+ KB\n"
     ]
    }
   ],
   "source": [
    "data.info()"
   ]
  },
  {
   "cell_type": "code",
   "execution_count": 6,
   "metadata": {},
   "outputs": [],
   "source": [
    "data = data.apply(lambda x: x.str.strip() if x.name in ['State', 'International Plan', 'VMail Plan', 'Churn'] else x)"
   ]
  },
  {
   "cell_type": "code",
   "execution_count": 7,
   "metadata": {},
   "outputs": [
    {
     "data": {
      "text/plain": [
       "(656, 21)"
      ]
     },
     "execution_count": 7,
     "metadata": {},
     "output_type": "execute_result"
    }
   ],
   "source": [
    "data[data['Churn'] == 'True.'].shape"
   ]
  },
  {
   "cell_type": "code",
   "execution_count": 8,
   "metadata": {},
   "outputs": [
    {
     "data": {
      "text/html": [
       "<div>\n",
       "<style scoped>\n",
       "    .dataframe tbody tr th:only-of-type {\n",
       "        vertical-align: middle;\n",
       "    }\n",
       "\n",
       "    .dataframe tbody tr th {\n",
       "        vertical-align: top;\n",
       "    }\n",
       "\n",
       "    .dataframe thead th {\n",
       "        text-align: right;\n",
       "    }\n",
       "</style>\n",
       "<table border=\"1\" class=\"dataframe\">\n",
       "  <thead>\n",
       "    <tr style=\"text-align: right;\">\n",
       "      <th></th>\n",
       "      <th>State</th>\n",
       "      <th>International Plan</th>\n",
       "      <th>VMail Plan</th>\n",
       "      <th>Churn</th>\n",
       "    </tr>\n",
       "  </thead>\n",
       "  <tbody>\n",
       "    <tr>\n",
       "      <th>0</th>\n",
       "      <td>KS</td>\n",
       "      <td>no</td>\n",
       "      <td>yes</td>\n",
       "      <td>False.</td>\n",
       "    </tr>\n",
       "    <tr>\n",
       "      <th>1</th>\n",
       "      <td>OH</td>\n",
       "      <td>no</td>\n",
       "      <td>yes</td>\n",
       "      <td>False.</td>\n",
       "    </tr>\n",
       "  </tbody>\n",
       "</table>\n",
       "</div>"
      ],
      "text/plain": [
       "  State International Plan VMail Plan   Churn\n",
       "0    KS                 no        yes  False.\n",
       "1    OH                 no        yes  False."
      ]
     },
     "execution_count": 8,
     "metadata": {},
     "output_type": "execute_result"
    }
   ],
   "source": [
    "data[['State', 'International Plan', 'VMail Plan', 'Churn']].head(2)"
   ]
  },
  {
   "cell_type": "code",
   "execution_count": 9,
   "metadata": {},
   "outputs": [
    {
     "data": {
      "text/plain": [
       "WV    149\n",
       "AL    114\n",
       "MN    112\n",
       "ID    110\n",
       "OH    110\n",
       "Name: State, dtype: int64"
      ]
     },
     "execution_count": 9,
     "metadata": {},
     "output_type": "execute_result"
    }
   ],
   "source": [
    "data.State.value_counts().head()"
   ]
  },
  {
   "cell_type": "code",
   "execution_count": 10,
   "metadata": {},
   "outputs": [
    {
     "data": {
      "text/plain": [
       "array(['KS', 'OH', 'NJ', 'OK', 'AL', 'MA', 'MO', 'LA', 'WV', 'IN', 'RI',\n",
       "       'IA', 'MT', 'NY', 'ID', 'VT', 'VA', 'TX', 'FL', 'CO', 'AZ', 'SC',\n",
       "       'NE', 'WY', 'HI', 'IL', 'NH', 'GA', 'AK', 'MD', 'AR', 'WI', 'OR',\n",
       "       'MI', 'DE', 'UT', 'CA', 'MN', 'SD', 'NC', 'WA', 'NM', 'NV', 'DC',\n",
       "       'KY', 'ME', 'MS', 'TN', 'PA', 'CT', 'ND'], dtype=object)"
      ]
     },
     "execution_count": 10,
     "metadata": {},
     "output_type": "execute_result"
    }
   ],
   "source": [
    "stateencoder = LabelEncoder()\n",
    "\n",
    "\n",
    "data_encoded = data.copy()\n",
    "international_plan = 'International Plan'\n",
    "vmail_plan = 'VMail Plan'\n",
    "data_encoded.State = stateencoder.fit_transform(data_encoded.State)\n",
    "data_encoded[international_plan] = data_encoded[international_plan].replace({'yes': 1, 'no': 0})\n",
    "data_encoded[vmail_plan] = data_encoded[vmail_plan].replace({'yes': 1, 'no': 0})\n",
    "data_encoded.Churn = data_encoded.Churn.replace({'False.': 0, 'True.': 1})\n",
    "\n",
    "stateencoder.inverse_transform(data_encoded.State.unique())\n",
    "# data_encoded.Churn.head()"
   ]
  },
  {
   "cell_type": "code",
   "execution_count": 11,
   "metadata": {},
   "outputs": [
    {
     "name": "stdout",
     "output_type": "stream",
     "text": [
      "<class 'pandas.core.frame.DataFrame'>\n",
      "RangeIndex: 4617 entries, 0 to 4616\n",
      "Data columns (total 21 columns):\n",
      "State                   4617 non-null int32\n",
      "Account Length          4617 non-null int64\n",
      "Area Code               4617 non-null int64\n",
      "Phone                   4617 non-null int64\n",
      "International Plan      4617 non-null int64\n",
      "VMail Plan              4617 non-null int64\n",
      "VMail Message           4617 non-null int64\n",
      "Day Mins                4617 non-null float64\n",
      "Day Calls               4617 non-null int64\n",
      "Day Charge              4617 non-null float64\n",
      "Eve Mins                4617 non-null float64\n",
      "Eve Calls               4617 non-null int64\n",
      "Eve Charge              4617 non-null float64\n",
      "Night Mins              4617 non-null float64\n",
      "Night Calls             4617 non-null int64\n",
      "Nights Charge           4617 non-null float64\n",
      "International Mins      4617 non-null float64\n",
      "International Calls     4617 non-null int64\n",
      "International Charge    4617 non-null float64\n",
      "CustServ Calls          4617 non-null int64\n",
      "Churn                   4617 non-null int64\n",
      "dtypes: float64(8), int32(1), int64(12)\n",
      "memory usage: 739.5 KB\n"
     ]
    }
   ],
   "source": [
    "data_encoded.info()"
   ]
  }
 ],
 "metadata": {
  "kernelspec": {
   "display_name": "Python 3",
   "language": "python",
   "name": "python3"
  },
  "language_info": {
   "codemirror_mode": {
    "name": "ipython",
    "version": 3
   },
   "file_extension": ".py",
   "mimetype": "text/x-python",
   "name": "python",
   "nbconvert_exporter": "python",
   "pygments_lexer": "ipython3",
   "version": "3.7.3"
  }
 },
 "nbformat": 4,
 "nbformat_minor": 2
}
